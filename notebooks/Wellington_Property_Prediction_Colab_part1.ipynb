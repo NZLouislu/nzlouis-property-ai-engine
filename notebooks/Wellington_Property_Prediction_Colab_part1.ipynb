{
 "cells": [
  {
   "cell_type": "markdown",
   "metadata": {
    "id": "title_section"
   },
   "source": [
    "# Wellington房产预测模型 - 基于真实数据\n",
    "\n",
    "<a href=\"https://colab.research.google.com/github/NZLouislu/nzlouis-property-ai-engine/blob/main/notebooks/Wellington_Property_Prediction_Colab.ipynb\" target=\"_parent\"><img src=\"https://colab.research.google.com/assets/colab-badge.svg\" alt=\"Open In Colab\"/></a>\n",
    "\n",
    "这个notebook实现了一个高精度的Wellington房产预测模型，从real_estate表获取真实数据进行训练，能够预测房产是否适合出售。\n",
    "\n",
    "## 🚀 快速开始\n",
    "点击上方的 **\"Open in Colab\"** 按钮，然后选择 **\"运行时\" → \"全部运行\"** 即可开始！\n",
    "\n",
    "## 主要功能\n",
    "- 从real_estate表获取真实训练数据\n",
    "- 高级特征工程\n",
    "- 集成学习模型(随机森林+梯度提升+逻辑回归)\n",
    "- 生成高置信度Wellington房产预测\n",
    "- 自动保存预测结果到数据库"
   ]
  },
  {
   "cell_type": "markdown",
   "metadata": {
    "id": "setup_section"
   },
   "source": [
    "## 1. 环境设置和依赖安装"
   ]
  },
  {
   "cell_type": "code",
   "execution_count": null,
   "metadata": {
    "id": "install_dependencies"
   },
   "outputs": [],
   "source": [
    "# 安装必要的包\n",
    "!pip install pandas numpy scikit-learn joblib matplotlib seaborn supabase python-dotenv\n",
    "\n",
    "import sys\n",
    "import os\n",
    "import pandas as pd\n",
    "import numpy as np\n",
    "from sklearn.model_selection import train_test_split, cross_val_score\n",
    "from sklearn.preprocessing import LabelEncoder, StandardScaler\n",
    "from sklearn.metrics import classification_report, accuracy_score\n",
    "from sklearn.ensemble import RandomForestClassifier, GradientBoostingClassifier, VotingClassifier\n",
    "from sklearn.linear_model import LogisticRegression\n",
    "import joblib\n",
    "from datetime import datetime\n",
    "import warnings\n",
    "import matplotlib.pyplot as plt\n",
    "import seaborn as sns\n",
    "import json\n",
    "from dotenv import load_dotenv\n",
    "from supabase import create_client, Client\n",
    "import uuid\n",
    "\n",
    "warnings.filterwarnings(\"ignore\")\n",
    "print(\"✅ 所有依赖包安装完成\")"
   ]
  },
  {
   "cell_type": "markdown",
   "metadata": {
    "id": "upload_section"
   },
   "source": [
    "## 2. 上传必要文件\n",
    "\n",
    "在Colab中，我们需要上传以下文件：\n",
    "1. `wellington_real_data_predictor.py` - 包含从real_estate表获取数据的函数\n",
    "2. `.env` 文件 - 包含Supabase凭据"
   ]
  },
  {
   "cell_type": "code",
   "execution_count": null,
   "metadata": {
    "id": "upload_files"
   },
   "outputs": [],
   "source": [
    "# 上传wellington_real_data_predictor.py文件\n",
    "from google.colab import files\n",
    "\n",
    "print(\"请上传wellington_real_data_predictor.py文件...\")\n",
    "uploaded = files.upload()\n",
    "\n",
    "if 'wellington_real_data_predictor.py' in uploaded:\n",
    "    print(\"✅ wellington_real_data_predictor.py上传成功\")\n",
    "else:\n",
    "    print(\"❌ 未找到wellington_real_data_predictor.py文件，请重新上传\")"
   ]
  },
  {
   "cell_type": "code",
   "execution_count": null,
   "metadata": {
    "id": "upload_env"
   },
   "outputs": [],
   "source": [
    "# 上传.env文件\n",
    "print(\"请上传.env文件（包含SUPABASE_URL和SUPABASE_KEY）...\")\n",
    "uploaded = files.upload()\n",
    "\n",
    "if '.env' in uploaded:\n",
    "    print(\"✅ .env文件上传成功\")\n",
    "    # 加载环境变量\n",
    "    load_dotenv()\n",
    "else:\n",
    "    print(\"⚠️ 未找到.env文件，请手动设置环境变量\")\n",
    "    # 手动设置环境变量\n",
    "    # os.environ['SUPABASE_URL'] = 'your_supabase_url_here'\n",
    "    # os.environ['SUPABASE_KEY'] = 'your_supabase_key_here'"
   ]
  },
  {
   "cell_type": "markdown",
   "metadata": {
    "id": "import_section"
   },
   "source": [
    "## 3. 导入wellington_real_data_predictor.py中的函数"
   ]
  },
  {
   "cell_type": "code",
   "execution_count": null,
   "metadata": {
    "id": "import_functions"
   },
   "outputs": [],
   "source": [
    "# 导入wellington_real_data_predictor.py中的所有函数\n",
    "from wellington_real_data_predictor import *\n",
    "\n",
    "# 创建Supabase客户端连接\n",
    "supabase_client = create_supabase_client()\n",
    "if supabase_client:\n",
    "    print(\"✅ Supabase连接成功！\")\n",
    "else:\n",
    "    print(\"❌ Supabase连接失败，请检查.env文件中的凭据\")"
   ]
  },
  {
   "cell_type": "markdown",
   "metadata": {
    "id": "data_section"
   },
   "source": [
    "## 4. 从real_estate表获取数据"
   ]
  },
  {
   "cell_type": "code",
   "execution_count": null,
   "metadata": {
    "id": "get_data"
   },
   "outputs": [],
   "source": [
    "print(\"🔄 从real_estate表获取训练数据...\")\n",
    "data = get_training_data_from_real_estate(supabase_client)\n",
    "if data is not None:\n",
    "    print(f\"✅ 成功加载 {len(data)} 条记录\")\n",
    "    print(\"\\n📊 数据形状:\", data.shape)\n",
    "    print(\"\\n📋 列名:\")\n",
    "    print(data.columns.tolist())\n",
    "    \n",
    "    # 显示数据样本\n",
    "    print(\"\\n📊 数据样本:\")\n",
    "    display(data.head())\n",
    "else:\n",
    "    print(\"❌ 无法获取数据，请检查数据库连接和表结构\")"
   ]
  },
  {
   "cell_type": "markdown",
   "metadata": {
    "id": "process_section"
   },
   "source": [
    "## 5. 数据处理和特征工程"
   ]
  },
  {
   "cell_type": "code",
   "execution_count": null,
   "metadata": {
    "id": "process_data"
   },
   "outputs": [],
   "source": [
    "print(\"🔄 处理数据...\")\n",
    "# 处理real_estate表的数据\n",
    "training_data, available_columns = process_real_estate_data(data)\n",
    "if training_data is not None:\n",
    "    print(f\"✅ 数据处理完成，共 {len(training_data)} 条记录\")\n",
    "    print(f\"📋 可用列: {available_columns}\")\n",
    "    \n",
    "    # 创建特征\n",
    "    X, feature_names = create_features_from_real_data(training_data)\n",
    "    y = training_data['target'].values\n",
    "    \n",
    "    print(f\"\\n📊 训练数据统计:\")\n",
    "    print(f\"  样本数量: {len(X)}\")\n",
    "    print(f\"  特征数量: {len(feature_names)}\")\n",
    "    print(f\"  标签分布: {pd.Series(y).value_counts().to_dict()}\")\n",
    "    \n",
    "    processed_data = X.copy()\n",
    "    processed_data['target'] = y\n",
    "    \n",
    "    # 显示处理后的数据\n",
    "    print(\"\\n📊 处理后的数据样本:\")\n",
    "    display(processed_data.head())\n",
    "else:\n",
    "    print(\"❌ 数据处理失败\")"
   ]
  }
 ],
 "metadata": {
  "colab": {
   "provenance": []
  },
  "kernelspec": {
   "display_name": "Python 3",
   "name": "python3"
  },
  "language_info": {
   "name": "python"
  }
 },
 "nbformat": 4,
 "nbformat_minor": 0
}