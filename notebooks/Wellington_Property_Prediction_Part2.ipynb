{
 "cells": [
  {
   "cell_type": "markdown",
   "metadata": {},
   "source": [
   "<a href=\"https://colab.research.google.com/github/NZLouislu/nzlouis-property-ai-engine/blob/main/notebooks/Wellington_Property_Prediction_Part2.ipynb\" target=\"_parent\"><img src=\"https://colab.research.google.com/assets/colab-badge.svg\" alt=\"Open In Colab\"/></a>",
    "# Wellington房产预测模型 - 基于真实数据 (第2部分)\n",
    "\n",
    "这个notebook是Wellington房产预测模型的第2部分，包含特征工程、模型训练和预测功能。"
   ]
  },
  {
   "cell_type": "markdown",
   "metadata": {},
   "source": [
    "## 1. 加载数据和环境设置"
   ]
  },
  {
   "cell_type": "code",
   "execution_count": null,
   "metadata": {},
   "outputs": [],
   "source": [
    "# 安装必要的包\n",
    "!pip install pandas numpy scikit-learn matplotlib seaborn\n",
    "\n",
    "import pandas as pd\n",
    "import numpy as np\n",
    "from sklearn.ensemble import RandomForestRegressor\n",
    "from sklearn.model_selection import train_test_split\n",
    "from sklearn.preprocessing import StandardScaler\n",
    "from sklearn.metrics import mean_squared_error, r2_score\n",
    "import matplotlib.pyplot as plt\n",
    "import seaborn as sns\n",
    "import os\n",
    "import pickle\n",
    "\n",
    "# 上传第1部分生成的数据文件\n",
    "try:\n",
    "    from google.colab import files\n",
    "    print(\"请上传第1部分生成的processed_property_data.csv文件\")\n",
    "    uploaded = files.upload()\n",
    "    \n",
    "    # 加载上传的数据文件\n",
    "    df = pd.read_csv('processed_property_data.csv')\n",
    "    print(f\"✅ 成功加载数据，共 {len(df)} 条记录\")\n",
    "except:\n",
    "    print(\"⚠️ 无法上传文件或不在Colab环境中，尝试直接读取文件\")\n",
    "    try:\n",
    "        df = pd.read_csv('processed_property_data.csv')\n",
    "        print(f\"✅ 成功加载数据，共 {len(df)} 条记录\")\n",
    "    except:\n",
    "        print(\"❌ 无法加载数据，将创建模拟数据\")\n",
    "        # 创建模拟数据\n",
    "        n_samples = 500\n",
    "        df = pd.DataFrame({\n",
    "            'bedrooms': np.random.randint(1, 6, size=n_samples),\n",
    "            'bathrooms': np.random.randint(1, 4, size=n_samples),\n",
    "            'floor_size': np.random.randint(50, 300, size=n_samples),\n",
    "            'year_built': np.random.randint(1950, 2023, size=n_samples),\n",
    "            'suburb': np.random.choice(['Wellington Central', 'Lower Hutt', 'Upper Hutt', 'Porirua'], size=n_samples)\n",
    "        })\n",
    "        df['last_sold_price'] = df['bedrooms'] * 200000 + df['bathrooms'] * 100000 + df['floor_size'] * 2000 + np.random.normal(0, 100000, size=n_samples)"
   ]
  },
  {
   "cell_type": "markdown",
   "metadata": {},
   "source": [
    "## 2. 特征工程"
   ]
  },
  {
   "cell_type": "code",
   "execution_count": null,
   "metadata": {},
   "outputs": [],
   "source": [
    "# 特征工程\n",
    "print(\"🔄 开始特征工程...\")\n",
    "\n",
    "# 处理类别型特征\n",
    "if 'suburb' in df.columns:\n",
    "    suburb_dummies = pd.get_dummies(df['suburb'], prefix='suburb')\n",
    "    df = pd.concat([df, suburb_dummies], axis=1)\n",
    "    df.drop('suburb', axis=1, inplace=True)\n",
    "    print(f\"✅ 对suburb进行独热编码，新增 {len(suburb_dummies.columns)} 个特征\")\n",
    "\n",
    "# 添加新特征\n",
    "if 'year_built' in df.columns:\n",
    "    df['property_age'] = 2025 - df['year_built']\n",
    "    print(\"✅ 添加特征: property_age (房产年龄)\")\n",
    "\n",
    "if 'bedrooms' in df.columns and 'bathrooms' in df.columns:\n",
    "    df['bedroom_bathroom_ratio'] = df['bedrooms'] / df['bathrooms'].replace(0, 1)\n",
    "    print(\"✅ 添加特征: bedroom_bathroom_ratio (卧室与浴室比例)\")\n",
    "\n",
    "if 'last_sold_price' in df.columns and 'floor_size' in df.columns:\n",
    "    df['price_per_sqm'] = df['last_sold_price'] / df['floor_size'].replace(0, 1)\n",
    "    print(\"✅ 添加特征: price_per_sqm (每平方米价格)\")\n",
    "\n",
    "if 'bedrooms' in df.columns and 'floor_size' in df.columns:\n",
    "    df['sqm_per_bedroom'] = df['floor_size'] / df['bedrooms'].replace(0, 1)\n",
    "    print(\"✅ 添加特征: sqm_per_bedroom (每卧室平方米)\")\n",
    "\n",
    "# 准备特征和目标变量\n",
    "y = df['last_sold_price']\n",
    "X = df.drop(['last_sold_price', 'id', 'created_at', 'updated_at', 'address', 'normalized_address', 'data'], axis=1, errors='ignore')\n",
    "\n",
    "# 检查并删除非数值型特征\n",
    "non_numeric_cols = X.select_dtypes(exclude=['int64', 'float64']).columns\n",
    "if len(non_numeric_cols) > 0:\n",
    "    print(f\"⚠️ 删除非数值型特征: {list(non_numeric_cols)}\")\n",
    "    X = X.drop(non_numeric_cols, axis=1)\n",
    "\n",
    "# 标准化特征\n",
    "scaler = StandardScaler()\n",
    "X_scaled = scaler.fit_transform(X)\n",
    "\n",
    "print(f\"✅ 特征工程完成，最终特征数量: {X.shape[1]}\")\n",
    "print(f\"📊 特征列表: {list(X.columns)}\")"
   ]
  },
  {
   "cell_type": "markdown",
   "metadata": {},
   "source": [
    "## 3. 模型训练和评估"
   ]
  },
  {
   "cell_type": "code",
   "execution_count": null,
   "metadata": {},
   "outputs": [],
   "source": [
    "# 划分训练集和测试集\n",
    "X_train, X_test, y_train, y_test = train_test_split(X_scaled, y, test_size=0.2, random_state=42)\n",
    "print(f\"✅ 训练集大小: {X_train.shape[0]}，测试集大小: {X_test.shape[0]}\")\n",
    "\n",
    "# 训练随机森林模型\n",
    "print(\"🔄 训练随机森林模型...\")\n",
    "model = RandomForestRegressor(n_estimators=100, random_state=42)\n",
    "model.fit(X_train, y_train)\n",
    "\n",
    "# 评估模型\n",
    "y_pred = model.predict(X_test)\n",
    "mse = mean_squared_error(y_test, y_pred)\n",
    "rmse = np.sqrt(mse)\n",
    "r2 = r2_score(y_test, y_pred)\n",
    "\n",
    "print(f\"✅ 模型评估:\")\n",
    "print(f\"   - 均方误差 (MSE): {mse:.2f}\")\n",
    "print(f\"   - 均方根误差 (RMSE): {rmse:.2f}\")\n",
    "print(f\"   - R² 分数: {r2:.4f}\")"
   ]
  },
  {
   "cell_type": "markdown",
   "metadata": {},
   "source": [
    "## 4. 特征重要性分析"
   ]
  },
  {
   "cell_type": "code",
   "execution_count": null,
   "metadata": {},
   "outputs": [],
   "source": [
    "# 特征重要性分析\n",
    "feature_importance = pd.DataFrame({\n",
    "    'feature': X.columns,\n",
    "    'importance': model.feature_importances_\n",
    "}).sort_values('importance', ascending=False)\n",
    "\n",
    "print(\"📊 特征重要性:\")\n",
    "display(feature_importance)\n",
    "\n",
    "# 可视化特征重要性\n",
    "plt.figure(figsize=(10, 6))\n",
    "sns.barplot(x='importance', y='feature', data=feature_importance.head(10))\n",
    "plt.title('Top 10 最重要特征')\n",
    "plt.tight_layout()\n",
    "plt.show()"
   ]
  },
  {
   "cell_type": "markdown",
   "metadata": {},
   "source": [
    "## 5. 预测样本房产"
   ]
  },
  {
   "cell_type": "code",
   "execution_count": null,
   "metadata": {},
   "outputs": [],
   "source": [
    "# 创建样本房产\n",
    "sample_properties = pd.DataFrame([\n",
    "    {\n",
    "        'bedrooms': 3,\n",
    "        'bathrooms': 2,\n",
    "        'floor_size': 120,\n",
    "        'year_built': 2000,\n",
    "        'description': 'Wellington Central的三居室房产'\n",
    "    },\n",
    "    {\n",
    "        'bedrooms': 4,\n",
    "        'bathrooms': 2,\n",
    "        'floor_size': 180,\n",
    "        'year_built': 1990,\n",
    "        'description': 'Lower Hutt的四居室房产'\n",
    "    },\n",
    "    {\n",
    "        'bedrooms': 2,\n",
    "        'bathrooms': 1,\n",
    "        'floor_size': 80,\n",
    "        'year_built': 2010,\n",
    "        'description': 'Wellington Central的两居室公寓'\n",
    "    }\n",
    "])\n",
    "\n",
    "# 为样本房产添加相同的特征\n",
    "if 'property_age' in X.columns:\n",
    "    sample_properties['property_age'] = 2025 - sample_properties['year_built']\n",
    "\n",
    "if 'bedroom_bathroom_ratio' in X.columns:\n",
    "    sample_properties['bedroom_bathroom_ratio'] = sample_properties['bedrooms'] / sample_properties['bathrooms']\n",
    "\n",
    "if 'sqm_per_bedroom' in X.columns:\n",
    "    sample_properties['sqm_per_bedroom'] = sample_properties['floor_size'] / sample_properties['bedrooms']\n",
    "\n",
    "# 添加缺失的特征列\n",
    "for col in X.columns:\n",
    "    if col not in sample_properties.columns:\n",
    "        sample_properties[col] = 0\n",
    "\n",
    "# 确保列顺序与训练数据相同\n",
    "sample_properties = sample_properties[X.columns]\n",
    "\n",
    "# 标准化样本特征\n",
    "sample_properties_scaled = scaler.transform(sample_properties)\n",
    "\n",
    "# 预测价格\n",
    "predicted_prices = model.predict(sample_properties_scaled)\n",
    "\n",
    "# 显示预测结果\n",
    "results = pd.DataFrame({\n",
    "    '描述': ['Wellington Central的三居室房产', 'Lower Hutt的四居室房产', 'Wellington Central的两居室公寓'],\n",
    "    '预测价格 (NZD)': predicted_prices.round(2)\n",
    "})\n",
    "\n",
    "print(\"📊 样本房产价格预测:\")\n",
    "display(results)"
   ]
  },
  {
   "cell_type": "markdown",
   "metadata": {},
   "source": [
    "## 6. 保存模型"
   ]
  },
  {
   "cell_type": "code",
   "execution_count": null,
   "metadata": {},
   "outputs": [],
   "source": [
    "# 保存模型\n",
    "import pickle\n",
    "from google.colab import files\n",
    "\n",
    "# 保存模型和标准化器\n",
    "model_data = {\n",
    "    'model': model,\n",
    "    'scaler': scaler,\n",
    "    'feature_names': list(X.columns),\n",
    "    'training_date': pd.Timestamp.now().strftime('%Y-%m-%d'),\n",
    "    'r2_score': r2\n",
    "}\n",
    "\n",
    "with open('wellington_property_model.pkl', 'wb') as f:\n",
    "    pickle.dump(model_data, f)\n",
    "\n",
    "# 下载模型文件\n",
    "files.download('wellington_property_model.pkl')\n",
    "print(\"✅ 模型已保存并准备好下载\")"
   ]
  }
 ],
 "metadata": {
  "kernelspec": {
   "display_name": "Python 3",
   "language": "python",
   "name": "python3"
  },
  "language_info": {
   "codemirror_mode": {
    "name": "ipython",
    "version": 3
   },
   "file_extension": ".py",
   "mimetype": "text/x-python",
   "name": "python",
   "nbconvert_exporter": "python",
   "pygments_lexer": "ipython3",
   "version": "3.8.10"
  }
 },
 "nbformat": 4,
 "nbformat_minor": 4
}
