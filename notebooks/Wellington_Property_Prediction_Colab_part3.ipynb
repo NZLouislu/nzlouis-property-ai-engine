{
 "cells": [
  {
   "cell_type": "markdown",
   "metadata": {
    "id": "prediction_section"
   },
   "source": [
    "## 9. 获取Wellington房产数据并进行预测"
   ]
  },
  {
   "cell_type": "code",
   "execution_count": null,
   "metadata": {
    "id": "predict_properties"
   },
   "outputs": [],
   "source": [
    "print(\"🔄 获取Wellington房产数据进行预测...\")\n",
    "wellington_properties = get_wellington_properties(supabase_client)\n",
    "\n",
    "if wellington_properties is not None and len(wellington_properties) > 0:\n",
    "    print(f\"✅ 获取到 {len(wellington_properties)} 条Wellington房产数据\")\n",
    "    \n",
    "    # 显示数据样本\n",
    "    print(\"\\n📊 Wellington房产数据样本:\")\n",
    "    display(wellington_properties.head())\n",
    "    \n",
    "    # 进行预测\n",
    "    prediction_results = predict_wellington_properties(\n",
    "        wellington_properties, model, scaler, feature_names\n",
    "    )\n",
    "    \n",
    "    if prediction_results is not None:\n",
    "        # 显示预测结果\n",
    "        print(f\"\\n📊 预测结果统计:\")\n",
    "        print(f\"  总预测数量: {len(prediction_results)}\")\n",
    "        print(f\"  平均置信度: {prediction_results['confidence_score'].mean():.4f}\")\n",
    "        print(f\"  预测为可能出售: {len(prediction_results[prediction_results['predicted_status'] == 'likely to sell'])}\")\n",
    "        print(f\"  预测为不太可能出售: {len(prediction_results[prediction_results['predicted_status'] == 'unlikely to sell'])}\")\n",
    "        \n",
    "        # 显示高置信度预测结果\n",
    "        high_confidence = prediction_results[prediction_results['confidence_score'] >= 0.8]\n",
    "        print(f\"\\n🎯 高置信度(≥0.8)预测结果: {len(high_confidence)} 条\")\n",
    "        \n",
    "        if len(high_confidence) > 0:\n",
    "            print(\"\\n🏠 高置信度Wellington房产预测:\")\n",
    "            for _, row in high_confidence.head(5).iterrows():\n",
    "                status_emoji = \"🟢\" if row['predicted_status'] == \"likely to sell\" else \"🔴\"\n",
    "                print(f\"{status_emoji} {row['address']}\")\n",
    "                print(f\"    地区: {row['suburb']} | {row['bedrooms']}房{row['bathrooms']}卫 | {row['year_built']}年建\")\n",
    "                print(f\"    价格: ${row['price']:,} | 预测: {row['predicted_status']} | 置信度: {row['confidence_score']:.3f}\")\n",
    "                print()\n",
    "                \n",
    "        # 保存预测结果到CSV\n",
    "        prediction_results.to_csv('wellington_property_predictions.csv', index=False)\n",
    "        print(f\"💾 预测结果已保存到 wellington_property_predictions.csv\")\n",
    "        \n",
    "        # 保存到数据库\n",
    "        if supabase_client:\n",
    "            inserted_count = save_predictions_to_property_status(supabase_client, prediction_results)\n",
    "            if inserted_count > 0:\n",
    "                print(f\"✅ 成功保存 {inserted_count} 条预测结果到property_status表\")\n",
    "else:\n",
    "    print(\"❌ 无法获取Wellington房产数据\")"
   ]
  },
  {
   "cell_type": "markdown",
   "metadata": {
    "id": "save_section"
   },
   "source": [
    "## 10. 保存模型"
   ]
  },
  {
   "cell_type": "code",
   "execution_count": null,
   "metadata": {
    "id": "save_model"
   },
   "outputs": [],
   "source": [
    "# 保存模型和相关数据\n",
    "model_filename = 'wellington_property_model.joblib'\n",
    "joblib.dump(model, model_filename)\n",
    "print(f\"✅ 模型已保存为 {model_filename}\")\n",
    "\n",
    "feature_columns_filename = 'feature_columns.joblib'\n",
    "joblib.dump(feature_names, feature_columns_filename)\n",
    "print(f\"✅ 特征列已保存为 {feature_columns_filename}\")\n",
    "\n",
    "scaler_filename = 'scaler.joblib'\n",
    "joblib.dump(scaler, scaler_filename)\n",
    "print(f\"✅ 标准化器已保存为 {scaler_filename}\")\n",
    "\n",
    "# 如果有预测结果，保存到CSV\n",
    "if 'prediction_results' in locals() and prediction_results is not None:\n",
    "    prediction_results.to_csv('wellington_property_predictions.csv', index=False)\n",
    "    print(f\"✅ 预测结果已保存到 wellington_property_predictions.csv\")"
   ]
  },
  {
   "cell_type": "markdown",
   "metadata": {
    "id": "download_section"
   },
   "source": [
    "## 11. 下载模型文件"
   ]
  },
  {
   "cell_type": "code",
   "execution_count": null,
   "metadata": {
    "id": "download_files"
   },
   "outputs": [],
   "source": [
    "from google.colab import files\n",
    "\n",
    "try:\n",
    "    files.download(model_filename)\n",
    "    files.download(feature_columns_filename)\n",
    "    files.download(scaler_filename)\n",
    "    if 'prediction_results' in locals() and prediction_results is not None:\n",
    "        files.download('wellington_property_predictions.csv')\n",
    "    print(\"✅ 模型文件下载成功!\")\n",
    "except:\n",
    "    print(\"注意: 下载功能只在Google Colab环境中有效\")"
   ]
  },
  {
   "cell_type": "markdown",
   "metadata": {
    "id": "summary_section"
   },
   "source": [
    "## 12. 结果总结"
   ]
  },
  {
   "cell_type": "code",
   "execution_count": null,
   "metadata": {
    "id": "summary"
   },
   "outputs": [],
   "source": [
    "print(\"🎉 Wellington房产预测完成!\")\n",
    "print(\"=\" * 60)\n",
    "\n",
    "if 'test_accuracy' in locals():\n",
    "    print(f\"✅ 模型准确率: {test_accuracy:.4f}\")\n",
    "    \n",
    "if 'prediction_results' in locals() and prediction_results is not None:\n",
    "    print(f\"✅ 总预测数量: {len(prediction_results)}\")\n",
    "    high_conf_count = len(prediction_results[prediction_results['confidence_score'] >= 0.8])\n",
    "    print(f\"✅ 高置信度(≥0.8): {high_conf_count}\")\n",
    "    print(f\"✅ 平均置信度: {prediction_results['confidence_score'].mean():.4f}\")\n",
    "    \n",
    "    likely_to_sell = len(prediction_results[prediction_results['predicted_status'] == 'likely to sell'])\n",
    "    print(f\"✅ 预测可能出售: {likely_to_sell} 个房产\")\n",
    "\n",
    "print(\"\\n📋 关键发现:\")\n",
    "print(\"  • 基于real_estate表的真实销售数据训练模型\")\n",
    "print(\"  • 对properties表中的Wellington房产进行预测\")\n",
    "print(\"  • 识别出最有可能近期出售的房产\")\n",
    "print(\"  • 预测结果已保存到property_status表\")\n",
    "\n",
    "print(\"\\n🚀 使用建议:\")\n",
    "print(\"  1. 重点关注置信度≥0.8的预测结果\")\n",
    "print(\"  2. 优先推荐'likely to sell'状态的房产\")\n",
    "print(\"  3. 结合房产特征（年龄、价格、地区）进行分析\")\n",
    "print(\"  4. 定期更新模型以提高预测准确性\")\n",
    "print(\"  5. 查看property_status表获取完整预测数据\")\n",
    "\n",
    "print(\"\\n\" + \"=\"*60)\n",
    "if 'supabase_client' in locals() and supabase_client:\n",
    "    print(\"🎯 Wellington房产预测完成，结果已保存到数据库，可以在应用中展示！\")\n",
    "else:\n",
    "    print(\"⚠️ 请配置数据库连接以启用自动保存功能\")\n",
    "print(\"=\"*60)"
   ]
  }
 ],
 "metadata": {
  "colab": {
   "provenance": []
  },
  "kernelspec": {
   "display_name": "Python 3",
   "name": "python3"
  },
  "language_info": {
   "name": "python"
  }
 },
 "nbformat": 4,
 "nbformat_minor": 0
}